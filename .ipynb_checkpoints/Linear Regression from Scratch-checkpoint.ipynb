{
 "cells": [
  {
   "cell_type": "code",
   "execution_count": 1,
   "id": "a9b81d67-c65d-45e1-b9cb-fe6e4065e502",
   "metadata": {},
   "outputs": [],
   "source": [
    "#Importing Libraries\n",
    "import pandas as pd\n",
    "import numpy as np\n",
    "import matplotlib.pyplot as plt"
   ]
  },
  {
   "cell_type": "code",
   "execution_count": 2,
   "id": "6c891d8f-b406-4a46-a53b-e93977ee3dda",
   "metadata": {},
   "outputs": [
    {
     "data": {
      "text/html": [
       "<div>\n",
       "<style scoped>\n",
       "    .dataframe tbody tr th:only-of-type {\n",
       "        vertical-align: middle;\n",
       "    }\n",
       "\n",
       "    .dataframe tbody tr th {\n",
       "        vertical-align: top;\n",
       "    }\n",
       "\n",
       "    .dataframe thead th {\n",
       "        text-align: right;\n",
       "    }\n",
       "</style>\n",
       "<table border=\"1\" class=\"dataframe\">\n",
       "  <thead>\n",
       "    <tr style=\"text-align: right;\">\n",
       "      <th></th>\n",
       "      <th>x</th>\n",
       "      <th>y</th>\n",
       "    </tr>\n",
       "  </thead>\n",
       "  <tbody>\n",
       "    <tr>\n",
       "      <th>0</th>\n",
       "      <td>24.0</td>\n",
       "      <td>21.549452</td>\n",
       "    </tr>\n",
       "    <tr>\n",
       "      <th>1</th>\n",
       "      <td>50.0</td>\n",
       "      <td>47.464463</td>\n",
       "    </tr>\n",
       "    <tr>\n",
       "      <th>2</th>\n",
       "      <td>15.0</td>\n",
       "      <td>17.218656</td>\n",
       "    </tr>\n",
       "    <tr>\n",
       "      <th>3</th>\n",
       "      <td>38.0</td>\n",
       "      <td>36.586398</td>\n",
       "    </tr>\n",
       "    <tr>\n",
       "      <th>4</th>\n",
       "      <td>87.0</td>\n",
       "      <td>87.288984</td>\n",
       "    </tr>\n",
       "    <tr>\n",
       "      <th>5</th>\n",
       "      <td>36.0</td>\n",
       "      <td>32.463875</td>\n",
       "    </tr>\n",
       "    <tr>\n",
       "      <th>6</th>\n",
       "      <td>12.0</td>\n",
       "      <td>10.780897</td>\n",
       "    </tr>\n",
       "    <tr>\n",
       "      <th>7</th>\n",
       "      <td>81.0</td>\n",
       "      <td>80.763399</td>\n",
       "    </tr>\n",
       "    <tr>\n",
       "      <th>8</th>\n",
       "      <td>25.0</td>\n",
       "      <td>24.612151</td>\n",
       "    </tr>\n",
       "    <tr>\n",
       "      <th>9</th>\n",
       "      <td>5.0</td>\n",
       "      <td>6.963319</td>\n",
       "    </tr>\n",
       "  </tbody>\n",
       "</table>\n",
       "</div>"
      ],
      "text/plain": [
       "      x          y\n",
       "0  24.0  21.549452\n",
       "1  50.0  47.464463\n",
       "2  15.0  17.218656\n",
       "3  38.0  36.586398\n",
       "4  87.0  87.288984\n",
       "5  36.0  32.463875\n",
       "6  12.0  10.780897\n",
       "7  81.0  80.763399\n",
       "8  25.0  24.612151\n",
       "9   5.0   6.963319"
      ]
     },
     "execution_count": 2,
     "metadata": {},
     "output_type": "execute_result"
    }
   ],
   "source": [
    "# Loading Data\n",
    "data = pd.read_csv('data_for_lr.csv')\n",
    "data.head(10)"
   ]
  },
  {
   "cell_type": "code",
   "execution_count": 3,
   "id": "7ec53fa2-8ac7-4b6e-a1b3-6f81cf061984",
   "metadata": {},
   "outputs": [
    {
     "name": "stdout",
     "output_type": "stream",
     "text": [
      "<class 'pandas.core.frame.DataFrame'>\n",
      "RangeIndex: 700 entries, 0 to 699\n",
      "Data columns (total 2 columns):\n",
      " #   Column  Non-Null Count  Dtype  \n",
      "---  ------  --------------  -----  \n",
      " 0   x       700 non-null    float64\n",
      " 1   y       699 non-null    float64\n",
      "dtypes: float64(2)\n",
      "memory usage: 11.1 KB\n"
     ]
    }
   ],
   "source": [
    "# get information about data\n",
    "data.info()"
   ]
  },
  {
   "cell_type": "code",
   "execution_count": 4,
   "id": "9ed4088c-5deb-4109-b7f2-111b9207f586",
   "metadata": {},
   "outputs": [
    {
     "data": {
      "text/plain": [
       "x    0\n",
       "y    1\n",
       "dtype: int64"
      ]
     },
     "execution_count": 4,
     "metadata": {},
     "output_type": "execute_result"
    }
   ],
   "source": [
    "# check for null values\n",
    "data.isnull().sum()"
   ]
  },
  {
   "cell_type": "code",
   "execution_count": 6,
   "id": "2c9aeddd-9a02-458e-99fb-cfa1857f30f5",
   "metadata": {},
   "outputs": [
    {
     "name": "stdout",
     "output_type": "stream",
     "text": [
      "Shape of the data: (699, 2)\n"
     ]
    }
   ],
   "source": [
    "# Data Processing\n",
    "data = data.dropna()\n",
    "print('Shape of the data:', data.shape)"
   ]
  },
  {
   "cell_type": "markdown",
   "id": "f5ff0b59-8129-42e8-a85e-cf09e980f3c7",
   "metadata": {},
   "source": [
    "## Splitting the data"
   ]
  },
  {
   "cell_type": "code",
   "execution_count": 7,
   "id": "e50e0b2e-4426-4473-aa3b-a40fc7917fcf",
   "metadata": {},
   "outputs": [],
   "source": [
    "# training input and output\n",
    "train_input = np.array(data.x[0:500]).reshape(500,1)\n",
    "train_output = np.array(data.y[0:500]).reshape(500,1)\n",
    "\n",
    "# validation data input and output\n",
    "test_input = np.array(data.x[500:700]).reshape(199,1)\n",
    "test_output = np.array(data.y[500:699]).reshape(199,1)"
   ]
  },
  {
   "cell_type": "code",
   "execution_count": 8,
   "id": "654d4623-2922-47d6-92a1-36339f4ec136",
   "metadata": {},
   "outputs": [
    {
     "name": "stdout",
     "output_type": "stream",
     "text": [
      "Training input data shape : (500, 1)\n",
      "Training output data shape : (500, 1)\n",
      "Testing input data shape : (199, 1)\n",
      "Testing output data shape : (199, 1)\n"
     ]
    }
   ],
   "source": [
    "print(f'Training input data shape : {train_input.shape}')\n",
    "print(f'Training output data shape : {train_output.shape}')\n",
    "print(f'Testing input data shape : {test_input.shape}')\n",
    "print(f'Testing output data shape : {test_output.shape}')"
   ]
  },
  {
   "cell_type": "markdown",
   "id": "bc62a562-2c29-4adc-9621-e07271d41d45",
   "metadata": {},
   "source": [
    "# <font color='green'>Linear Regression</font>"
   ]
  },
  {
   "cell_type": "markdown",
   "id": "23b5aa05-62fc-4d91-b8ae-417f5c2d0456",
   "metadata": {},
   "source": [
    "### Forward Propagation"
   ]
  },
  {
   "cell_type": "markdown",
   "id": "a79acc01-5ca3-4743-a2b8-d8835735cb9b",
   "metadata": {},
   "source": [
    "f(x) = m*x + c"
   ]
  },
  {
   "cell_type": "code",
   "execution_count": 10,
   "id": "4f637d40-4758-45ee-844c-3f2caff3245c",
   "metadata": {},
   "outputs": [],
   "source": [
    "def forward_propagation(train_input, parameters):\n",
    "    m = parameters['m']\n",
    "    c = parameters['c']\n",
    "\n",
    "    predictions = np.multiply(m, train_input) + c\n",
    "\n",
    "    return predictions"
   ]
  },
  {
   "cell_type": "markdown",
   "id": "e658db8b-9a37-4357-8ad8-b97b954e716d",
   "metadata": {},
   "source": [
    "### Cost Function"
   ]
  },
  {
   "cell_type": "markdown",
   "id": "a1036b7d-fa71-44ff-b5dc-cd1e2c2df223",
   "metadata": {},
   "source": [
    "summation(1/2n * (y - f(x))^2)"
   ]
  },
  {
   "cell_type": "code",
   "execution_count": 11,
   "id": "b9772535-7254-4492-ae13-ccee8f86785a",
   "metadata": {},
   "outputs": [],
   "source": [
    "def cost_function(predictions, train_output):\n",
    "    \n",
    "    cost = np.mean((train_output - predictions) ** 2) * 0.5\n",
    "\n",
    "    return cost"
   ]
  },
  {
   "cell_type": "markdown",
   "id": "95818c79-7555-426a-95ef-5f99511a6cec",
   "metadata": {},
   "source": [
    "### Gradient Descent / Backward Propagation"
   ]
  },
  {
   "cell_type": "markdown",
   "id": "10d75bb0-f825-46cb-b1d0-1bf4069ec6af",
   "metadata": {},
   "source": [
    "df = summation(f(x) - y) / n"
   ]
  },
  {
   "cell_type": "markdown",
   "id": "b267cd95-7c82-4e9a-900e-f676b4e793cb",
   "metadata": {},
   "source": [
    "dm = df * x"
   ]
  },
  {
   "cell_type": "markdown",
   "id": "fe138711-94ae-48d3-95d5-64cd6e32dd94",
   "metadata": {},
   "source": [
    "dc = df * 1"
   ]
  },
  {
   "cell_type": "code",
   "execution_count": 12,
   "id": "9db4c414-e49f-4536-9822-3958bcc65001",
   "metadata": {},
   "outputs": [],
   "source": [
    "def backward_propagation(train_input, train_output, predictions):\n",
    "    derivatives = dict()\n",
    "\n",
    "    df = predictions - train_output\n",
    "    dm = np.mean(np.multiply(df, train_input))\n",
    "    dc = np.mean(df)\n",
    "\n",
    "    derivatives['dm'] = dm\n",
    "    derivatives['dc'] = dc\n",
    "\n",
    "    return derivatives"
   ]
  },
  {
   "cell_type": "markdown",
   "id": "c36e8f62-5582-4d88-8bad-7aada82d7cfc",
   "metadata": {},
   "source": [
    "### Update Parameters"
   ]
  },
  {
   "cell_type": "markdown",
   "id": "53374cda-0dde-491f-a269-bdc1328b84c3",
   "metadata": {},
   "source": [
    "m = m - (learning_rate * dm)"
   ]
  },
  {
   "cell_type": "markdown",
   "id": "cc37d34d-24cc-449e-bde0-2a2ce1b1cc62",
   "metadata": {},
   "source": [
    "c = c - (learning_rate * dc)"
   ]
  },
  {
   "cell_type": "code",
   "execution_count": 14,
   "id": "7c651a79-570f-4530-ab59-ab8b556dedf1",
   "metadata": {},
   "outputs": [],
   "source": [
    "def update_parameters(parameters, derivatives, learning_rate):\n",
    "    \n",
    "    parameters['m'] = parameters['m'] - (learning_rate * derivatives['dm'])\n",
    "    parameters['c'] = parameters['c'] - (learning_rate * derivatives['dc'])\n",
    "\n",
    "    return parameters"
   ]
  },
  {
   "cell_type": "code",
   "execution_count": null,
   "id": "bc17f58d-3afd-4842-ae35-8b41ede7b31e",
   "metadata": {},
   "outputs": [],
   "source": []
  }
 ],
 "metadata": {
  "kernelspec": {
   "display_name": "Python 3 (ipykernel)",
   "language": "python",
   "name": "python3"
  },
  "language_info": {
   "codemirror_mode": {
    "name": "ipython",
    "version": 3
   },
   "file_extension": ".py",
   "mimetype": "text/x-python",
   "name": "python",
   "nbconvert_exporter": "python",
   "pygments_lexer": "ipython3",
   "version": "3.11.8"
  }
 },
 "nbformat": 4,
 "nbformat_minor": 5
}
