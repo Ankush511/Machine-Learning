{
 "cells": [
  {
   "cell_type": "markdown",
   "id": "d1ce3d9c-a00b-42b0-b795-c1a4f6f5a43c",
   "metadata": {},
   "source": [
    "# <b/> <font color='green'> <center> Gradient Boost Implementation </center></font>"
   ]
  },
  {
   "cell_type": "code",
   "execution_count": 33,
   "id": "f0a3905d-5119-479f-ac94-2df79b5de233",
   "metadata": {},
   "outputs": [],
   "source": [
    "# Importing necessary libraries\n",
    "import pandas as pd\n",
    "import numpy as np\n",
    "import matplotlib.pyplot as plt\n",
    "%matplotlib inline\n",
    "\n",
    "from sklearn.ensemble import GradientBoostingRegressor\n",
    "from sklearn.model_selection import train_test_split\n",
    "from sklearn.metrics import mean_absolute_error, mean_squared_error, r2_score\n",
    "\n",
    "from sklearn.model_selection import GridSearchCV\n",
    "\n",
    "import warnings\n",
    "warnings.filterwarnings('ignore')"
   ]
  },
  {
   "cell_type": "markdown",
   "id": "1ea4f98c-eeb9-4052-af5c-28f8b84f236e",
   "metadata": {},
   "source": [
    "## <b/> Data Loading"
   ]
  },
  {
   "cell_type": "code",
   "execution_count": 34,
   "id": "8827fbd2-d9a3-4c10-960d-3cc89cb085ca",
   "metadata": {},
   "outputs": [
    {
     "data": {
      "text/html": [
       "<div>\n",
       "<style scoped>\n",
       "    .dataframe tbody tr th:only-of-type {\n",
       "        vertical-align: middle;\n",
       "    }\n",
       "\n",
       "    .dataframe tbody tr th {\n",
       "        vertical-align: top;\n",
       "    }\n",
       "\n",
       "    .dataframe thead th {\n",
       "        text-align: right;\n",
       "    }\n",
       "</style>\n",
       "<table border=\"1\" class=\"dataframe\">\n",
       "  <thead>\n",
       "    <tr style=\"text-align: right;\">\n",
       "      <th></th>\n",
       "      <th>CRIM</th>\n",
       "      <th>ZN</th>\n",
       "      <th>INDUS</th>\n",
       "      <th>CHAS</th>\n",
       "      <th>NOX</th>\n",
       "      <th>RM</th>\n",
       "      <th>AGE</th>\n",
       "      <th>DIS</th>\n",
       "      <th>RAD</th>\n",
       "      <th>TAX</th>\n",
       "      <th>PTRATIO</th>\n",
       "      <th>B</th>\n",
       "      <th>LSTAT</th>\n",
       "      <th>MEDV</th>\n",
       "    </tr>\n",
       "  </thead>\n",
       "  <tbody>\n",
       "    <tr>\n",
       "      <th>0</th>\n",
       "      <td>0.00632</td>\n",
       "      <td>18.0</td>\n",
       "      <td>2.31</td>\n",
       "      <td>0</td>\n",
       "      <td>0.538</td>\n",
       "      <td>6.575</td>\n",
       "      <td>65.2</td>\n",
       "      <td>4.0900</td>\n",
       "      <td>1</td>\n",
       "      <td>296</td>\n",
       "      <td>15.3</td>\n",
       "      <td>396.90</td>\n",
       "      <td>4.98</td>\n",
       "      <td>24.0</td>\n",
       "    </tr>\n",
       "    <tr>\n",
       "      <th>1</th>\n",
       "      <td>0.02731</td>\n",
       "      <td>0.0</td>\n",
       "      <td>7.07</td>\n",
       "      <td>0</td>\n",
       "      <td>0.469</td>\n",
       "      <td>6.421</td>\n",
       "      <td>78.9</td>\n",
       "      <td>4.9671</td>\n",
       "      <td>2</td>\n",
       "      <td>242</td>\n",
       "      <td>17.8</td>\n",
       "      <td>396.90</td>\n",
       "      <td>9.14</td>\n",
       "      <td>21.6</td>\n",
       "    </tr>\n",
       "    <tr>\n",
       "      <th>2</th>\n",
       "      <td>0.02729</td>\n",
       "      <td>0.0</td>\n",
       "      <td>7.07</td>\n",
       "      <td>0</td>\n",
       "      <td>0.469</td>\n",
       "      <td>7.185</td>\n",
       "      <td>61.1</td>\n",
       "      <td>4.9671</td>\n",
       "      <td>2</td>\n",
       "      <td>242</td>\n",
       "      <td>17.8</td>\n",
       "      <td>392.83</td>\n",
       "      <td>4.03</td>\n",
       "      <td>34.7</td>\n",
       "    </tr>\n",
       "    <tr>\n",
       "      <th>3</th>\n",
       "      <td>0.03237</td>\n",
       "      <td>0.0</td>\n",
       "      <td>2.18</td>\n",
       "      <td>0</td>\n",
       "      <td>0.458</td>\n",
       "      <td>6.998</td>\n",
       "      <td>45.8</td>\n",
       "      <td>6.0622</td>\n",
       "      <td>3</td>\n",
       "      <td>222</td>\n",
       "      <td>18.7</td>\n",
       "      <td>394.63</td>\n",
       "      <td>2.94</td>\n",
       "      <td>33.4</td>\n",
       "    </tr>\n",
       "    <tr>\n",
       "      <th>4</th>\n",
       "      <td>0.06905</td>\n",
       "      <td>0.0</td>\n",
       "      <td>2.18</td>\n",
       "      <td>0</td>\n",
       "      <td>0.458</td>\n",
       "      <td>7.147</td>\n",
       "      <td>54.2</td>\n",
       "      <td>6.0622</td>\n",
       "      <td>3</td>\n",
       "      <td>222</td>\n",
       "      <td>18.7</td>\n",
       "      <td>396.90</td>\n",
       "      <td>5.33</td>\n",
       "      <td>36.2</td>\n",
       "    </tr>\n",
       "  </tbody>\n",
       "</table>\n",
       "</div>"
      ],
      "text/plain": [
       "      CRIM    ZN  INDUS  CHAS    NOX     RM   AGE     DIS  RAD  TAX  PTRATIO  \\\n",
       "0  0.00632  18.0   2.31     0  0.538  6.575  65.2  4.0900    1  296     15.3   \n",
       "1  0.02731   0.0   7.07     0  0.469  6.421  78.9  4.9671    2  242     17.8   \n",
       "2  0.02729   0.0   7.07     0  0.469  7.185  61.1  4.9671    2  242     17.8   \n",
       "3  0.03237   0.0   2.18     0  0.458  6.998  45.8  6.0622    3  222     18.7   \n",
       "4  0.06905   0.0   2.18     0  0.458  7.147  54.2  6.0622    3  222     18.7   \n",
       "\n",
       "        B  LSTAT  MEDV  \n",
       "0  396.90   4.98  24.0  \n",
       "1  396.90   9.14  21.6  \n",
       "2  392.83   4.03  34.7  \n",
       "3  394.63   2.94  33.4  \n",
       "4  396.90   5.33  36.2  "
      ]
     },
     "execution_count": 34,
     "metadata": {},
     "output_type": "execute_result"
    }
   ],
   "source": [
    "# loading the dataset\n",
    "boston = pd.read_csv('boston_house_prices.csv')\n",
    "boston.head()"
   ]
  },
  {
   "cell_type": "markdown",
   "id": "964ef1d2-53b9-41a1-b843-796cf181caec",
   "metadata": {},
   "source": [
    "## <b/> Splitting Dataset"
   ]
  },
  {
   "cell_type": "code",
   "execution_count": 35,
   "id": "67e78fc0-d822-4a8d-8744-3f7a3968fc28",
   "metadata": {},
   "outputs": [],
   "source": [
    "# splitting feature and target variables\n",
    "x = boston.drop(['MEDV'], axis=1)\n",
    "y = boston['MEDV']"
   ]
  },
  {
   "cell_type": "code",
   "execution_count": 36,
   "id": "f9d40be7-d81f-4dad-ba5f-4a9bd5fd91bf",
   "metadata": {},
   "outputs": [],
   "source": [
    "# Split the dataset into training and testing sets\n",
    "X_train, X_test, y_train, y_test = train_test_split(x,y, test_size=0.2)"
   ]
  },
  {
   "cell_type": "markdown",
   "id": "653a2531-9a6a-4aa8-8c73-8b0a0e9bdd61",
   "metadata": {},
   "source": [
    "## <b/> Model Training and Evaluation"
   ]
  },
  {
   "cell_type": "code",
   "execution_count": 37,
   "id": "b68c0792-3648-4042-ab2e-91c3223a4ef3",
   "metadata": {},
   "outputs": [],
   "source": [
    "# Initialize Gradient Boosting Regressor model with specified parameters\n",
    "gbr = GradientBoostingRegressor(max_depth=2, n_estimators=10, learning_rate=1.0)"
   ]
  },
  {
   "cell_type": "code",
   "execution_count": 38,
   "id": "b2287462-3051-4ba5-8258-b305f7cbff2d",
   "metadata": {},
   "outputs": [],
   "source": [
    "# Fit the Gradient Boosting Regressor model to the training data\n",
    "model = gbr.fit(X_train, y_train)\n",
    "\n",
    "# Use the trained model to make predictions on the test data\n",
    "y_pred = model.predict(X_test)"
   ]
  },
  {
   "cell_type": "code",
   "execution_count": 39,
   "id": "547729b8-f1d6-459e-9b77-6c2f586a0aa5",
   "metadata": {},
   "outputs": [
    {
     "data": {
      "text/plain": [
       "0.8169316823417866"
      ]
     },
     "execution_count": 39,
     "metadata": {},
     "output_type": "execute_result"
    }
   ],
   "source": [
    "# Check model's r2 score\n",
    "r2_score(y_test, y_pred)"
   ]
  },
  {
   "cell_type": "markdown",
   "id": "f429c49e-fddc-4868-96ca-28d5f6a791a2",
   "metadata": {},
   "source": [
    "## <b/> Feature Importance Plot"
   ]
  },
  {
   "cell_type": "code",
   "execution_count": 40,
   "id": "94060d75-d3bd-4c2b-bea7-25878293afc8",
   "metadata": {},
   "outputs": [
    {
     "data": {
      "image/png": "[encoded data removed]",
      "text/plain": [
       "<Figure size 640x480 with 1 Axes>"
      ]
     },
     "metadata": {},
     "output_type": "display_data"
    }
   ],
   "source": [
    "# Plot the important featues\n",
    "feature_imp = model.feature_importances_\n",
    "\n",
    "feature_imp = 100.0 * (feature_imp/feature_imp.max())\n",
    "sorted_idx = np.argsort(feature_imp)\n",
    "pos = np.arange(sorted_idx.shape[0]) + 0.5\n",
    "\n",
    "plt.barh(pos, feature_imp[sorted_idx], align='center')\n",
    "plt.yticks(pos, boston.columns[sorted_idx])\n",
    "plt.xlabel('Relative Importance')\n",
    "plt.title('Feature Importance')\n",
    "plt.show()"
   ]
  },
  {
   "cell_type": "markdown",
   "id": "18fec982-a207-422b-bd56-c516437578a9",
   "metadata": {},
   "source": [
    "## <b/> Hyperparameter Tuning"
   ]
  },
  {
   "cell_type": "code",
   "execution_count": 41,
   "id": "b6c1aff9-24c5-457f-b36f-7b01b82f1346",
   "metadata": {},
   "outputs": [
    {
     "name": "stdout",
     "output_type": "stream",
     "text": [
      "{'learning_rate': 0.15, 'n_estimators': 150}\n",
      "0.8833627792483874\n"
     ]
    }
   ],
   "source": [
    "# Define a dictionary of hyperparameters to tune and their corresponding values\n",
    "parameters = {'learning_rate' : [0.15, 0.1, 0.10, 0.05],\n",
    "              'n_estimators' : [100,150,200,250] }\n",
    "\n",
    "# Initialize GridSearchCV with GradientBoostingRegressor as the estimator, \n",
    "tuning = GridSearchCV(estimator = GradientBoostingRegressor(), param_grid = parameters, scoring='r2')\n",
    "\n",
    "# Fit GridSearchCV to the training data to find the best combination of hyperparameters\n",
    "tuning.fit(X_train, y_train)\n",
    "\n",
    "# Print the best hyperparameters and score found by GridSearchCV\n",
    "print(tuning.best_params_)\n",
    "print(tuning.best_score_)"
   ]
  },
  {
   "cell_type": "markdown",
   "id": "e623faf4-848e-4e41-b6ed-18af0b1dad20",
   "metadata": {},
   "source": [
    "### Similarly other parameters like max_depth, split_criteria, min_sample_leafs, etc. can be tuned for more better model accuracy."
   ]
  },
  {
   "cell_type": "code",
   "execution_count": null,
   "id": "e26f2d8d-da05-4a9e-a565-04da0307b462",
   "metadata": {},
   "outputs": [],
   "source": []
  }
 ],
 "metadata": {
  "kernelspec": {
   "display_name": "Python 3 (ipykernel)",
   "language": "python",
   "name": "python3"
  },
  "language_info": {
   "codemirror_mode": {
    "name": "ipython",
    "version": 3
   },
   "file_extension": ".py",
   "mimetype": "text/x-python",
   "name": "python",
   "nbconvert_exporter": "python",
   "pygments_lexer": "ipython3",
   "version": "3.11.8"
  }
 },
 "nbformat": 4,
 "nbformat_minor": 5
}
